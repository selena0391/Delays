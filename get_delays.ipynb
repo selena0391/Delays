{
 "cells": [
  {
   "cell_type": "code",
   "execution_count": 4,
   "metadata": {},
   "outputs": [],
   "source": [
    "import psycopg2\n",
    "import pandas as pd\n",
    "from config import params\n",
    "\n",
    "#performing connection to PostgreSQL database, calling connect() method and receaving Connection object that is stored into conn variable\n",
    "conn = psycopg2.connect(**params)\n",
    "#using connection object and cursor() method creating cursor object to be able to execute PostgreSQL queries from Python\n",
    "cur = conn.cursor()\n",
    "\n",
    "#execute select query using execute() method\n",
    "cur.execute(\"\"\"SELECT * FROM real_flight WHERE cancelled = 0 AND diverted = 0\"\"\")\n",
    "#retreaving all rows from table real_flight\n",
    "rows = cur.fetchall()\n",
    "\n",
    "#closing database connection\n",
    "cur.close()\n",
    "conn.close()\n",
    "\n",
    "#creating dataframe with the retrieved data\n",
    "df = pd.DataFrame(rows, columns=[desc.name for desc in cur.description])"
   ]
  },
  {
   "cell_type": "code",
   "execution_count": 6,
   "metadata": {},
   "outputs": [],
   "source": [
    "#dropping all rows that contain \"NaN\" in either arr_del15 or dep_del15 \n",
    "df.dropna(subset=['arr_del15','dep_del15' ], how='all', inplace=True)\n"
   ]
  },
  {
   "cell_type": "code",
   "execution_count": 68,
   "metadata": {},
   "outputs": [],
   "source": [
    "#creating new column with df dataframe, True value if there is a delay on either arrival or departure\n",
    "df['delayed'] = (df.arr_del15==1) | (df.dep_del15==1)\n",
    "df['delayed'] = df.delayed.astype(int)"
   ]
  },
  {
   "cell_type": "code",
   "execution_count": 46,
   "metadata": {},
   "outputs": [],
   "source": [
    "#creating new datafarme with each airline code and a ratio of delays for each of them\n",
    "del_airline = pd.DataFrame(df.groupby('op_unique_carrier')['delayed'].mean())\n",
    "#resetting to default 0-.. indexing, op_unique_carrier is set as an attribute\n",
    "del_airline.reset_index(level=0,inplace=True)"
   ]
  },
  {
   "cell_type": "code",
   "execution_count": 47,
   "metadata": {},
   "outputs": [],
   "source": [
    "#sorting the delay ratio from highest to lowest, resetting the index according to the new order\n",
    "del_airline = del_airline.sort_values(by='delayed', ascending=False).reset_index(drop=True)"
   ]
  },
  {
   "cell_type": "code",
   "execution_count": 48,
   "metadata": {},
   "outputs": [],
   "source": [
    "#saving new data frame as a csv file\n",
    "del_airline.to_csv('delayed_airlines.csv')"
   ]
  },
  {
   "cell_type": "code",
   "execution_count": 36,
   "metadata": {},
   "outputs": [],
   "source": [
    "#creating new data frame that would store ratios of delays for each airport\n",
    "del_airp = pd.DataFrame(df.groupby('origin_airport_id')['delayed'].mean())\n",
    "del_airp.reset_index(level=0,inplace=True)"
   ]
  },
  {
   "cell_type": "code",
   "execution_count": 38,
   "metadata": {},
   "outputs": [],
   "source": [
    "#sorting delays ratios from highest to lowest, resetting indexing\n",
    "del_airp = del_airp.sort_values(by='delayed', ascending=False).reset_index(drop=True)\n"
   ]
  },
  {
   "cell_type": "code",
   "execution_count": 39,
   "metadata": {},
   "outputs": [],
   "source": [
    "#saving del_airp datafarme as csv\n",
    "del_airp.to_csv('delayed_airports.csv')"
   ]
  },
  {
   "attachments": {},
   "cell_type": "markdown",
   "metadata": {},
   "source": [
    "Challenge\n"
   ]
  },
  {
   "cell_type": "code",
   "execution_count": 45,
   "metadata": {},
   "outputs": [
    {
     "data": {
      "text/html": [
       "<div>\n",
       "<style scoped>\n",
       "    .dataframe tbody tr th:only-of-type {\n",
       "        vertical-align: middle;\n",
       "    }\n",
       "\n",
       "    .dataframe tbody tr th {\n",
       "        vertical-align: top;\n",
       "    }\n",
       "\n",
       "    .dataframe thead th {\n",
       "        text-align: right;\n",
       "    }\n",
       "</style>\n",
       "<table border=\"1\" class=\"dataframe\">\n",
       "  <thead>\n",
       "    <tr style=\"text-align: right;\">\n",
       "      <th></th>\n",
       "      <th>code</th>\n",
       "      <th>name</th>\n",
       "      <th>rating</th>\n",
       "    </tr>\n",
       "  </thead>\n",
       "  <tbody>\n",
       "    <tr>\n",
       "      <th>0</th>\n",
       "      <td>WN</td>\n",
       "      <td>SouthWest Airlines</td>\n",
       "      <td>839</td>\n",
       "    </tr>\n",
       "    <tr>\n",
       "      <th>1</th>\n",
       "      <td>B6</td>\n",
       "      <td>JetBlue Airways</td>\n",
       "      <td>833</td>\n",
       "    </tr>\n",
       "    <tr>\n",
       "      <th>2</th>\n",
       "      <td>AS</td>\n",
       "      <td>Alaska Airlines</td>\n",
       "      <td>828</td>\n",
       "    </tr>\n",
       "    <tr>\n",
       "      <th>3</th>\n",
       "      <td>DL</td>\n",
       "      <td>Delta Air Lines</td>\n",
       "      <td>820</td>\n",
       "    </tr>\n",
       "    <tr>\n",
       "      <th>4</th>\n",
       "      <td>WS</td>\n",
       "      <td>WestJet</td>\n",
       "      <td>787</td>\n",
       "    </tr>\n",
       "    <tr>\n",
       "      <th>5</th>\n",
       "      <td>AA</td>\n",
       "      <td>American Airlines</td>\n",
       "      <td>779</td>\n",
       "    </tr>\n",
       "    <tr>\n",
       "      <th>6</th>\n",
       "      <td>AX</td>\n",
       "      <td>Air Canada</td>\n",
       "      <td>777</td>\n",
       "    </tr>\n",
       "    <tr>\n",
       "      <th>7</th>\n",
       "      <td>NK</td>\n",
       "      <td>Spirit Airlines</td>\n",
       "      <td>773</td>\n",
       "    </tr>\n",
       "    <tr>\n",
       "      <th>8</th>\n",
       "      <td>F9</td>\n",
       "      <td>Frontier Airlines</td>\n",
       "      <td>746</td>\n",
       "    </tr>\n",
       "  </tbody>\n",
       "</table>\n",
       "</div>"
      ],
      "text/plain": [
       "  code                name  rating\n",
       "0   WN  SouthWest Airlines     839\n",
       "1   B6     JetBlue Airways     833\n",
       "2   AS     Alaska Airlines     828\n",
       "3   DL     Delta Air Lines     820\n",
       "4   WS             WestJet     787\n",
       "5   AA   American Airlines     779\n",
       "6   AX          Air Canada     777\n",
       "7   NK     Spirit Airlines     773\n",
       "8   F9   Frontier Airlines     746"
      ]
     },
     "execution_count": 45,
     "metadata": {},
     "output_type": "execute_result"
    }
   ],
   "source": [
    "#loading the csv file into jd_ratings dataframe\n",
    "jd_ratings = pd.read_csv('jd_ratings.csv')"
   ]
  },
  {
   "cell_type": "code",
   "execution_count": 51,
   "metadata": {},
   "outputs": [],
   "source": [
    "#renaming a column 'op_unique_carrier' to 'code' to avoid columns with duplicate data in the next step\n",
    "del_airline.rename(columns={'op_unique_carrier':'code'},inplace=True)"
   ]
  },
  {
   "cell_type": "code",
   "execution_count": 69,
   "metadata": {},
   "outputs": [],
   "source": [
    "#merging two dataframes to align each airline with its ratio of delays and rating\n",
    "result = pd.merge(del_airline,jd_ratings,on='code')\n"
   ]
  },
  {
   "cell_type": "code",
   "execution_count": 66,
   "metadata": {},
   "outputs": [
    {
     "name": "stdout",
     "output_type": "stream",
     "text": [
      "0.00019317587980038908\n"
     ]
    }
   ],
   "source": [
    "# importing linear regression model from Scikit-learn to generate R^2 value\n",
    "from sklearn.linear_model import LinearRegression\n",
    "#Reshaping data either using double []\n",
    "X = result[['delayed']]\n",
    "y = result['rating']\n",
    "\n",
    "model = LinearRegression()\n",
    "model.fit(X, y)\n",
    "\n",
    "r_2 = model.score(X, y)\n",
    "print(r_2)"
   ]
  },
  {
   "attachments": {},
   "cell_type": "markdown",
   "metadata": {},
   "source": [
    "The R^2 < 0.5, it's insignificant, meaning ratio of delays might not predict customer satisfaction."
   ]
  }
 ],
 "metadata": {
  "kernelspec": {
   "display_name": "Python 3",
   "language": "python",
   "name": "python3"
  },
  "language_info": {
   "codemirror_mode": {
    "name": "ipython",
    "version": 3
   },
   "file_extension": ".py",
   "mimetype": "text/x-python",
   "name": "python",
   "nbconvert_exporter": "python",
   "pygments_lexer": "ipython3",
   "version": "3.10.7"
  },
  "orig_nbformat": 4,
  "vscode": {
   "interpreter": {
    "hash": "aee8b7b246df8f9039afb4144a1f6fd8d2ca17a180786b69acc140d282b71a49"
   }
  }
 },
 "nbformat": 4,
 "nbformat_minor": 2
}
